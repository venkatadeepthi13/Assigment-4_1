{
 "cells": [
  {
   "cell_type": "code",
   "execution_count": null,
   "id": "4901d139",
   "metadata": {},
   "outputs": [],
   "source": [
    "#Write a program to accept two numbers from the user and calculate multiplication, division"
   ]
  },
  {
   "cell_type": "code",
   "execution_count": 1,
   "id": "14dbcd90",
   "metadata": {},
   "outputs": [
    {
     "name": "stdout",
     "output_type": "stream",
     "text": [
      "enter your number: 4\n",
      "enter symbol: +\n",
      "enter your number: 3\n",
      "4 * 3 = 12\n",
      "4 / 3 = 1.3333333333333333\n"
     ]
    }
   ],
   "source": [
    "num1=int(input('enter your number: '))\n",
    "sym=input('enter symbol: ')\n",
    "num2=int(input('enter your number: '))\n",
    "print('{} * {} = {}'.format(num1,num2,num1*num2))\n",
    "print('{} / {} = {}'.format(num1,num2,num1/num2))"
   ]
  },
  {
   "cell_type": "code",
   "execution_count": null,
   "id": "8620efaf",
   "metadata": {},
   "outputs": [],
   "source": [
    "#Write a python program to print the characters from a string that are present at an even index "
   ]
  },
  {
   "cell_type": "code",
   "execution_count": 18,
   "id": "52b55e8f",
   "metadata": {},
   "outputs": [
    {
     "data": {
      "text/plain": [
       "'deti'"
      ]
     },
     "execution_count": 18,
     "metadata": {},
     "output_type": "execute_result"
    }
   ],
   "source": [
    "name='deepthi'\n",
    "name[::2]"
   ]
  },
  {
   "cell_type": "code",
   "execution_count": 5,
   "id": "d119eed5",
   "metadata": {},
   "outputs": [
    {
     "name": "stdout",
     "output_type": "stream",
     "text": [
      "enter your name: deepthi\n",
      "d\n",
      "e\n",
      "t\n",
      "i\n"
     ]
    }
   ],
   "source": [
    "name = input(\"enter your name: \")\n",
    "for x in range(len(name)):\n",
    "    if x%2==0:\n",
    "        print(name[x])"
   ]
  },
  {
   "cell_type": "code",
   "execution_count": 12,
   "id": "65ac99ff",
   "metadata": {},
   "outputs": [],
   "source": [
    "#Write a python program to print the characters from a string that are present at an odd index"
   ]
  },
  {
   "cell_type": "code",
   "execution_count": 4,
   "id": "9387c890",
   "metadata": {},
   "outputs": [
    {
     "name": "stdout",
     "output_type": "stream",
     "text": [
      "enter your name: deepthi\n",
      "e\n",
      "p\n",
      "h\n"
     ]
    }
   ],
   "source": [
    "name = input(\"enter your name: \")\n",
    "for x in range(len(name)):\n",
    "    if x%2!=0:\n",
    "        print(name[x])"
   ]
  },
  {
   "cell_type": "code",
   "execution_count": null,
   "id": "44b07114",
   "metadata": {},
   "outputs": [],
   "source": [
    "#Write a python program which will print the sum of the two numbers if the two numbers are even or it will print the difference \n",
    "#of two numbers"
   ]
  },
  {
   "cell_type": "code",
   "execution_count": 8,
   "id": "b6bea62e",
   "metadata": {},
   "outputs": [
    {
     "name": "stdout",
     "output_type": "stream",
     "text": [
      "Enter your number: 4\n",
      "Enter your number: 8\n",
      "4 + 8 = 12 \n"
     ]
    }
   ],
   "source": [
    "num1=int(input('Enter your number: '))\n",
    "num2=int(input('Enter your number: '))\n",
    "if num1%2==0 and num2%2==0:\n",
    "    print('{} + {} = {} '.format(num1,num2,num1+num2))\n",
    "else:\n",
    "    print('{} - {} = {} '.format(num1,num2,num1-num2))"
   ]
  },
  {
   "cell_type": "code",
   "execution_count": null,
   "id": "fcaed67d",
   "metadata": {},
   "outputs": [],
   "source": [
    "#Write a python program to convert all even indexed alphabets to upper and odd indexed to lower"
   ]
  },
  {
   "cell_type": "code",
   "execution_count": 9,
   "id": "a7a16f9c",
   "metadata": {},
   "outputs": [
    {
     "name": "stdout",
     "output_type": "stream",
     "text": [
      "enter your string: deepthi\n",
      "D\n",
      "e\n",
      "E\n",
      "p\n",
      "T\n",
      "h\n",
      "I\n"
     ]
    }
   ],
   "source": [
    "str1=input('enter your string: ')\n",
    "for x in range(len(str1)):\n",
    "    if x%2==0:\n",
    "        print(str1[x].upper())\n",
    "    else:\n",
    "        print(str1[x].lower())"
   ]
  },
  {
   "cell_type": "code",
   "execution_count": 9,
   "id": "bd6f2f77",
   "metadata": {},
   "outputs": [],
   "source": [
    "#Write a python program which will print True if the input number is divisible by 5 or else False"
   ]
  },
  {
   "cell_type": "code",
   "execution_count": 11,
   "id": "a6907bf5",
   "metadata": {},
   "outputs": [
    {
     "name": "stdout",
     "output_type": "stream",
     "text": [
      "Enter your number: 25\n",
      "True\n"
     ]
    }
   ],
   "source": [
    "number=int(input('Enter your number: '))\n",
    "if number%5==0:\n",
    "    print('True')\n",
    "else:\n",
    "    print('False')"
   ]
  },
  {
   "cell_type": "code",
   "execution_count": 12,
   "id": "88c533c2",
   "metadata": {},
   "outputs": [],
   "source": [
    "#Given two integer numbers return their product only if the product is greater than 1000, else return their sum"
   ]
  },
  {
   "cell_type": "code",
   "execution_count": 15,
   "id": "9da53808",
   "metadata": {},
   "outputs": [
    {
     "name": "stdout",
     "output_type": "stream",
     "text": [
      "enter your number: 89\n",
      "enter your number: 90\n",
      "8010\n"
     ]
    }
   ],
   "source": [
    "num1=int(input('enter your number: '))\n",
    "num2=int(input('enter your number: '))\n",
    "if num1*num2>1000:\n",
    "    print(num1*num2)\n",
    "else:\n",
    "    print(num1+num2)"
   ]
  },
  {
   "cell_type": "code",
   "execution_count": null,
   "id": "969315b5",
   "metadata": {},
   "outputs": [],
   "source": [
    "#Given two strings x, y writes a program to return a new string made of x and y’s first, middle, and last characters\n",
    "#Example:\n",
    "#Input\n",
    "#X=” pytho”\n",
    "#Y=” javas”\n",
    "#Output :” pjtvos”"
   ]
  },
  {
   "cell_type": "code",
   "execution_count": 11,
   "id": "581ddf04",
   "metadata": {},
   "outputs": [
    {
     "name": "stdout",
     "output_type": "stream",
     "text": [
      "Enter your string: deepthi\n",
      "Enter your string: kaveri\n",
      "dkpeii\n"
     ]
    }
   ],
   "source": [
    "x=input('Enter your string: ')\n",
    "y=input('Enter your string: ')\n",
    "\n",
    "print(x[0]+y[0]+x[len(x)//2]+y[len(y)//2]+x[-1]+y[-1])"
   ]
  },
  {
   "cell_type": "code",
   "execution_count": 13,
   "id": "9273d558",
   "metadata": {},
   "outputs": [],
   "source": [
    "#Write a python program to take three names as input from a user in the single input () function call\n",
    "#Example:\n",
    "#Input:\n",
    "#Enter three names: - “person1 person2 person3”\n",
    "#Output:\n",
    "#Name1: - “person1”\n",
    "#Name2: - “person2”\n",
    "#Name3: - “person3”"
   ]
  },
  {
   "cell_type": "code",
   "execution_count": 1,
   "id": "22b33c7b",
   "metadata": {},
   "outputs": [
    {
     "name": "stdout",
     "output_type": "stream",
     "text": [
      "enter three names: deepthi munni kaveri\n",
      "name1: - deepthi\n",
      "name2: - munni\n",
      "name3: - kaveri\n"
     ]
    }
   ],
   "source": [
    "name1,name2,name3=input('enter three names: ').split()\n",
    "print('name1: - {}'.format(name1))\n",
    "print('name2: - {}'.format(name2))\n",
    "print('name3: - {}'.format(name3))"
   ]
  },
  {
   "cell_type": "code",
   "execution_count": null,
   "id": "a1882217",
   "metadata": {},
   "outputs": [],
   "source": [
    "#Write a Python program to get a string from a given string where all occurrences of its first char have been changed to '@', \n",
    "#except the first char itself.\n",
    "#Example:\n",
    "#Input:\n",
    "#'malayalam’\n",
    "#Output:\n",
    "#'malayala@'\n",
    "#Input:\n",
    "#'abcabab'\n",
    "#Output:\n",
    "#‘abc@b@b’\n"
   ]
  },
  {
   "cell_type": "code",
   "execution_count": 51,
   "id": "84de043a",
   "metadata": {},
   "outputs": [
    {
     "name": "stdout",
     "output_type": "stream",
     "text": [
      "enter your string: abcabaqb\n"
     ]
    },
    {
     "data": {
      "text/plain": [
       "'abc@b@qb'"
      ]
     },
     "execution_count": 51,
     "metadata": {},
     "output_type": "execute_result"
    }
   ],
   "source": [
    "string=input('enter your string: ')\n",
    "string[0]+string[1:].replace(string[0],'@')"
   ]
  },
  {
   "cell_type": "code",
   "execution_count": null,
   "id": "1b8c32e1",
   "metadata": {},
   "outputs": [],
   "source": [
    "#Write a Python program to add 'ing' at the end of a given string (string length should be equal to or more than 3). If the\n",
    "#given string already ends with 'ing' then add 'ly' instead.If the string length of the given string is less than 3, leave it \n",
    "#unchanged\n",
    "#Example:\n",
    "#Input:\n",
    "#'sing’\n",
    "#Output:\n",
    "#'singing'\n",
    "#Input:\n",
    "#'playing'\n",
    "#Output:\n",
    "#‘playly’\n",
    "#Input:\n",
    "#' on'\n",
    "#Output:\n",
    "#‘on’"
   ]
  },
  {
   "cell_type": "code",
   "execution_count": null,
   "id": "d6ceffdf",
   "metadata": {},
   "outputs": [],
   "source": []
  },
  {
   "cell_type": "code",
   "execution_count": null,
   "id": "8a764081",
   "metadata": {},
   "outputs": [],
   "source": [
    "#Write a python program that accepts two inputs num1 and num2 print True if one of them is 10 or if their sum is 10 otherwise\n",
    "#print False"
   ]
  },
  {
   "cell_type": "code",
   "execution_count": 35,
   "id": "e724cfbe",
   "metadata": {},
   "outputs": [
    {
     "name": "stdout",
     "output_type": "stream",
     "text": [
      "enter your number: 5\n",
      "enter your number: 5\n",
      "True\n"
     ]
    }
   ],
   "source": [
    "num1=int(input('enter your number: '))\n",
    "num2=int(input('enter your number: '))\n",
    "if num1==10 or num2==10 or num1+num2==10:\n",
    "    print('True')\n",
    "else:\n",
    "    print('False')"
   ]
  },
  {
   "cell_type": "code",
   "execution_count": null,
   "id": "46ae9d8c",
   "metadata": {},
   "outputs": [],
   "source": [
    "#Write a python program that accepts three inputs x, y and z print True if x*y>z otherwise False"
   ]
  },
  {
   "cell_type": "code",
   "execution_count": 47,
   "id": "1920525b",
   "metadata": {},
   "outputs": [
    {
     "name": "stdout",
     "output_type": "stream",
     "text": [
      "enter your number: 4\n",
      "enter your number: 5\n",
      "enter your number: 12\n",
      "True\n"
     ]
    }
   ],
   "source": [
    "x=int(input('enter your number: '))\n",
    "y=int(input('enter your number: '))\n",
    "z=int(input('enter your number: '))\n",
    "if (x*y)>z:\n",
    "    print('True')\n",
    "else:\n",
    "    print('False')"
   ]
  },
  {
   "cell_type": "code",
   "execution_count": 44,
   "id": "b4457b16",
   "metadata": {},
   "outputs": [],
   "source": [
    "#Write a python program that accepts two strings input return True depending on whether the total number of characters in the \n",
    "#first string is equal to the total number of characters in the second string"
   ]
  },
  {
   "cell_type": "code",
   "execution_count": 58,
   "id": "83e8e320",
   "metadata": {},
   "outputs": [
    {
     "name": "stdout",
     "output_type": "stream",
     "text": [
      "enter your string: deepthi\n",
      "enter your string: aravind\n",
      "True\n"
     ]
    }
   ],
   "source": [
    "str1=input('enter your string: ')\n",
    "str2=input('enter your string: ')\n",
    "if len(str1)==len(str2):\n",
    "    print('True')"
   ]
  },
  {
   "cell_type": "code",
   "execution_count": null,
   "id": "aeabfbc4",
   "metadata": {},
   "outputs": [],
   "source": [
    "#Write a python program that takes a string input, we'll say that the front is the first three characters of the string. If the\n",
    "#string length is less than three characters, the front is whatever is there. Return a new string, which is three copies of the \n",
    "#front"
   ]
  },
  {
   "cell_type": "code",
   "execution_count": 61,
   "id": "6005007a",
   "metadata": {},
   "outputs": [
    {
     "name": "stdout",
     "output_type": "stream",
     "text": [
      "enter your string: python\n",
      "pytpytpyt\n"
     ]
    }
   ],
   "source": [
    "string=input('enter your string: ')\n",
    "str1=string[:3]\n",
    "print(str1*3)"
   ]
  },
  {
   "cell_type": "code",
   "execution_count": 62,
   "id": "7a7f1801",
   "metadata": {},
   "outputs": [],
   "source": [
    "#Write a python program that takes in a word and determines whether or not it is plural. A plural word is one that ends in \"s\"."
   ]
  },
  {
   "cell_type": "code",
   "execution_count": 64,
   "id": "fa328c7c",
   "metadata": {},
   "outputs": [
    {
     "name": "stdout",
     "output_type": "stream",
     "text": [
      "enter your word: bees\n",
      "it is plural\n"
     ]
    }
   ],
   "source": [
    "word=input('enter your word: ')\n",
    "if word[-1]=='s':\n",
    "#    print('it is plural')"
   ]
  },
  {
   "cell_type": "code",
   "execution_count": null,
   "id": "b85f3ac6",
   "metadata": {},
   "outputs": [],
   "source": [
    "#A bartender is writing a simple program to determine whether he should serve drinks to someone. He only serves drinks to\n",
    "#people 18 and older and when he's not on break (True means break and False means not a break time). Given the person's age,and \n",
    "#whether break time is in session, create a python program which prints whether he should serve drinks or not."
   ]
  },
  {
   "cell_type": "code",
   "execution_count": null,
   "id": "314c2944",
   "metadata": {},
   "outputs": [
    {
     "name": "stdout",
     "output_type": "stream",
     "text": [
      "enter your age: 21\n"
     ]
    }
   ],
   "source": [
    "x=int(input('enter your age: '))\n",
    "breaktime=input('true or false: ')\n",
    "if x>=18 and breaktime=='false':\n",
    "    print('serve drinks')\n",
    "    print('not in a breaktime')\n",
    "else:\n",
    "    print('do not serve the drink')\n",
    "    print('break')\n"
   ]
  },
  {
   "cell_type": "code",
   "execution_count": 2,
   "id": "0e914d09",
   "metadata": {},
   "outputs": [],
   "source": [
    "#Manoj Kumar has family and friends. Help him remind them who is who. Given a string with a name, return the relation of that\n",
    "#person to Manoj Kumar."
   ]
  },
  {
   "cell_type": "code",
   "execution_count": 14,
   "id": "26a06674",
   "metadata": {},
   "outputs": [
    {
     "data": {
      "text/plain": [
       "'father'"
      ]
     },
     "execution_count": 14,
     "metadata": {},
     "output_type": "execute_result"
    }
   ],
   "source": [
    "family={'srinivasarao':'father','gowri':'mother','aravind':'brother','deepthi':'sister'}\n",
    "family['srinivasarao']"
   ]
  },
  {
   "cell_type": "code",
   "execution_count": 16,
   "id": "bb0a8b5d",
   "metadata": {},
   "outputs": [
    {
     "data": {
      "text/plain": [
       "'mother'"
      ]
     },
     "execution_count": 16,
     "metadata": {},
     "output_type": "execute_result"
    }
   ],
   "source": [
    "family['gowri']"
   ]
  },
  {
   "cell_type": "code",
   "execution_count": 17,
   "id": "f814de60",
   "metadata": {},
   "outputs": [
    {
     "data": {
      "text/plain": [
       "'brother'"
      ]
     },
     "execution_count": 17,
     "metadata": {},
     "output_type": "execute_result"
    }
   ],
   "source": [
    "family['aravind']"
   ]
  },
  {
   "cell_type": "code",
   "execution_count": 18,
   "id": "58c61577",
   "metadata": {},
   "outputs": [
    {
     "data": {
      "text/plain": [
       "'sister'"
      ]
     },
     "execution_count": 18,
     "metadata": {},
     "output_type": "execute_result"
    }
   ],
   "source": [
    "family['deepthi']"
   ]
  },
  {
   "cell_type": "code",
   "execution_count": 19,
   "id": "91c6b0aa",
   "metadata": {},
   "outputs": [],
   "source": [
    "#Write a python program that takes a string, breaks it up and returns it with vowels first, consonants second. For any \n",
    "#character that's not a vowel (like special characters or spaces), treat them like consonants"
   ]
  },
  {
   "cell_type": "code",
   "execution_count": 6,
   "id": "65036b74",
   "metadata": {},
   "outputs": [
    {
     "name": "stdout",
     "output_type": "stream",
     "text": [
      "enter your string: deepthi\n",
      "eeidpth"
     ]
    }
   ],
   "source": [
    "str1=input('enter your string: ')\n",
    "for x in str1:\n",
    "    if x=='a' or x=='e' or x=='i' or x=='o' or x=='u':\n",
    "        print(x,end='')\n",
    "for  x in str1:\n",
    "    if x!='a' and x!='e' and x!='i' and x!='o' and x!='u':\n",
    "        print(x,end='')\n"
   ]
  },
  {
   "cell_type": "code",
   "execution_count": 1,
   "id": "0482b1eb",
   "metadata": {},
   "outputs": [],
   "source": [
    "#Create a dynamic calculator which asks for numbers and operator and return the answers\n",
    "#Example\n",
    "#Input:\n",
    "#Type first number: 10\n",
    "#Type any of this (+, -, *, /, %, **):*\n",
    "#Type second number: 19\n",
    "#Output:\n",
    "#Answer is 190"
   ]
  },
  {
   "cell_type": "code",
   "execution_count": 1,
   "id": "8444478b",
   "metadata": {},
   "outputs": [
    {
     "name": "stdout",
     "output_type": "stream",
     "text": [
      "enter first number: 76\n",
      "type any of this(+,-,*,/,%,**: ) -\n",
      "enter second number: 23\n",
      "53\n"
     ]
    }
   ],
   "source": [
    "num1=int(input('enter first number: '))\n",
    "sym=input('type any of this(+,-,*,/,%,**: ) ')\n",
    "num2=int(input('enter second number: '))\n",
    "if sym=='+':\n",
    "    print(num1+num2)\n",
    "elif sym=='-':\n",
    "    print(num1-num2)\n",
    "elif sym=='*':\n",
    "    print(num1*num2)\n",
    "elif sym=='/':\n",
    "    print(num1/num2)\n",
    "elif sym=='%':\n",
    "    print(num1%num2)\n",
    "else:\n",
    "    print(num1**num2)"
   ]
  },
  {
   "cell_type": "code",
   "execution_count": null,
   "id": "659ac4d3",
   "metadata": {},
   "outputs": [],
   "source": []
  }
 ],
 "metadata": {
  "kernelspec": {
   "display_name": "Python 3 (ipykernel)",
   "language": "python",
   "name": "python3"
  },
  "language_info": {
   "codemirror_mode": {
    "name": "ipython",
    "version": 3
   },
   "file_extension": ".py",
   "mimetype": "text/x-python",
   "name": "python",
   "nbconvert_exporter": "python",
   "pygments_lexer": "ipython3",
   "version": "3.9.7"
  }
 },
 "nbformat": 4,
 "nbformat_minor": 5
}
